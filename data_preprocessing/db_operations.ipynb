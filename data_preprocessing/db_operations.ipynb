{
 "cells": [
  {
   "cell_type": "code",
   "execution_count": 1,
   "metadata": {},
   "outputs": [],
   "source": [
    "import psycopg2\n",
    "from configparser import ConfigParser"
   ]
  },
  {
   "cell_type": "code",
   "execution_count": 2,
   "metadata": {},
   "outputs": [],
   "source": [
    "# connect to database\n",
    "#try:\n",
    "#    conn = psycopg2.connect(\"dbname='w4111' user='ho2271' host='w4111.cisxo09blonu.us-east-1.rds.amazonaws.com' password='d1d6s4ad'\")\n",
    "#except:\n",
    "#    print (\"I am unable to connect to the database\")"
   ]
  },
  {
   "cell_type": "code",
   "execution_count": 3,
   "metadata": {},
   "outputs": [],
   "source": [
    "def config(filename='database.ini', section='postgresql'):\n",
    "    # create a parser\n",
    "    parser = ConfigParser()\n",
    "    # read config file\n",
    "    parser.read(filename)\n",
    " \n",
    "    # get section, default to postgresql\n",
    "    db = {}\n",
    "    if parser.has_section(section):\n",
    "        params = parser.items(section)\n",
    "        for param in params:\n",
    "            db[param[0]] = param[1]\n",
    "    else:\n",
    "        raise Exception('Section {0} not found in the {1} file'.format(section, filename))\n",
    " \n",
    "    return db"
   ]
  },
  {
   "cell_type": "code",
   "execution_count": 6,
   "metadata": {},
   "outputs": [],
   "source": [
    "def create_tables():\n",
    "    \"\"\" create tables in the PostgreSQL database\"\"\"\n",
    "    commands = (\n",
    "        \"\"\"\n",
    "        DROP TABLE IF EXISTS website CASCADE;\n",
    "        CREATE TABLE website( \n",
    "        web_id VARCHAR(255),\n",
    "        PRIMARY KEY (web_id)\n",
    "        );\n",
    "        \"\"\",\n",
    "        \"\"\" \n",
    "        DROP TABLE IF EXISTS movie CASCADE;\n",
    "        CREATE TABLE movie( \n",
    "        name VARCHAR(255), \n",
    "        mov_id int,\n",
    "        language text, \n",
    "        runtime int,\n",
    "        release_date date, \n",
    "        revenue bigint, \n",
    "        PRIMARY KEY (mov_id) \n",
    "        );\n",
    "        \"\"\",\n",
    "        \"\"\"\n",
    "        DROP TABLE IF EXISTS link CASCADE;\n",
    "        CREATE TABLE link( \n",
    "        mov_id int,\n",
    "        web_id VARCHAR(255),\n",
    "        PRIMARY KEY (mov_id, web_id),\n",
    "        FOREIGN KEY (mov_id) REFERENCES movie (mov_id), \n",
    "        FOREIGN KEY (web_id) REFERENCES website (web_id) \n",
    "        );\n",
    "        \"\"\",\n",
    "        \"\"\"\n",
    "        DROP TABLE IF EXISTS genre CASCADE;\n",
    "        CREATE TABLE genre( \n",
    "        name VARCHAR(255), \n",
    "        genre_id int,\n",
    "        PRIMARY KEY (genre_id)\n",
    "        );\n",
    "        \"\"\",\n",
    "        \"\"\"\n",
    "        DROP TABLE IF EXISTS user_most_like CASCADE;\n",
    "        CREATE TABLE user_most_like( \n",
    "        name VARCHAR(255),\n",
    "        user_id int,\n",
    "        genre_id int,\n",
    "        gender text,\n",
    "        birthday date, \n",
    "        PRIMARY KEY (user_id),\n",
    "        FOREIGN KEY (genre_id) REFERENCES genre(genre_id),\n",
    "        CHECK(now()::date > birthday AND birthday > date '1900-01-01') \n",
    "        );\n",
    "        \"\"\",\n",
    "        \"\"\"\n",
    "        DROP TABLE IF EXISTS rate CASCADE;\n",
    "        CREATE TABLE rate( \n",
    "        mov_id int,\n",
    "        user_id int,\n",
    "        grade int,\n",
    "        review text,\n",
    "        PRIMARY KEY (mov_id, user_id),\n",
    "        FOREIGN KEY (mov_id) REFERENCES movie (mov_id),\n",
    "        FOREIGN KEY (user_id) REFERENCES user_most_like(user_id),\n",
    "        CHECK (5>=grade AND grade >=0) \n",
    "        );\n",
    "        \"\"\", \n",
    "        \"\"\"\n",
    "        DROP TABLE IF EXISTS belong_to CASCADE;\n",
    "        CREATE TABLE belong_to(\n",
    "        mov_id int,\n",
    "        genre_id int,\n",
    "        PRIMARY KEY (mov_id, genre_id),\n",
    "        FOREIGN KEY (mov_id) REFERENCES movie (mov_id),\n",
    "        FOREIGN KEY (genre_id) REFERENCES genre(genre_id)\n",
    "        );\n",
    "        \"\"\",\n",
    "        \"\"\"\n",
    "        DROP TABLE IF EXISTS director CASCADE;\n",
    "        CREATE TABLE director(\n",
    "        name VARCHAR(255),\n",
    "        director_id int,\n",
    "        gender int, \n",
    "        PRIMARY KEY (director_id),\n",
    "        CHECK (gender=2 OR gender=1 OR gender=0)\n",
    "        );\n",
    "        \"\"\",\n",
    "        \"\"\"\n",
    "        DROP TABLE IF EXISTS mov_cast CASCADE;\n",
    "        CREATE TABLE mov_cast( \n",
    "        name VARCHAR(255),\n",
    "        cast_id int,\n",
    "        gender text,\n",
    "        PRIMARY KEY (cast_id)\n",
    "        );\n",
    "        \"\"\",\n",
    "        \"\"\"\n",
    "        DROP TABLE IF EXISTS direct CASCADE;\n",
    "        CREATE TABLE direct(\n",
    "        mov_id int,\n",
    "        director_id int,\n",
    "        PRIMARY KEY (mov_id, director_id),\n",
    "        FOREIGN KEY (mov_id) REFERENCES movie (mov_id),\n",
    "        FOREIGN KEY (director_id) REFERENCES director (director_id)\n",
    "        );\n",
    "        \"\"\",\n",
    "        \"\"\"\n",
    "        DROP TABLE IF EXISTS act CASCADE;\n",
    "        CREATE TABLE act(\n",
    "        mov_id int,\n",
    "        role text,\n",
    "        cast_id int,\n",
    "        PRIMARY KEY (mov_id, cast_id),\n",
    "        FOREIGN KEY (mov_id) REFERENCES movie (mov_id),\n",
    "        FOREIGN KEY (cast_id) REFERENCES mov_cast (cast_id)\n",
    "        );\n",
    "        \"\"\"\n",
    "    )\n",
    "    conn = None\n",
    "    try:\n",
    "        # read the connection parameters\n",
    "        params = config()\n",
    "        # connect to the PostgreSQL server\n",
    "        conn = psycopg2.connect(**params)\n",
    "        cur = conn.cursor()\n",
    "        # create table one by one\n",
    "        for command in commands:\n",
    "            cur.execute(command)\n",
    "        # close communication with the PostgreSQL database server\n",
    "        cur.close()\n",
    "        # commit the changes\n",
    "        conn.commit()\n",
    "    except (Exception, psycopg2.DatabaseError) as error:\n",
    "        print(error)\n",
    "    finally:\n",
    "        if conn is not None:\n",
    "            conn.close()"
   ]
  },
  {
   "cell_type": "code",
   "execution_count": 7,
   "metadata": {},
   "outputs": [],
   "source": [
    "create_tables()"
   ]
  },
  {
   "cell_type": "code",
   "execution_count": 8,
   "metadata": {},
   "outputs": [],
   "source": [
    "def insert_csv(file_path, table_name):\n",
    "    \"\"\" insert csv into tables in the PostgreSQL database\"\"\"\n",
    "    conn = None\n",
    "    try:\n",
    "        # read the connection parameters\n",
    "        params = config()\n",
    "        # connect to the PostgreSQL server\n",
    "        conn = psycopg2.connect(**params)\n",
    "        cur = conn.cursor()\n",
    "        # insert csv files\n",
    "        f = open(file_path, \"r\")\n",
    "        # Truncate the table first\n",
    "        cur.execute(\"Truncate {} Cascade;\".format(table_name))\n",
    "        print(\"Truncated {}\".format(table_name))\n",
    "        # Load table from the file with header\n",
    "        cur.copy_expert(\"copy {} from STDIN CSV HEADER QUOTE '\\\"'\".format(table_name), f)\n",
    "        print(\"Loaded data into {}\".format(table_name))\n",
    "        # close communication with the PostgreSQL database server\n",
    "        cur.close()\n",
    "        f.close()\n",
    "        # commit the changes\n",
    "        conn.commit()\n",
    "    except (Exception, psycopg2.DatabaseError) as error:\n",
    "        print(error)\n",
    "    finally:\n",
    "        if conn is not None:\n",
    "            conn.close()"
   ]
  },
  {
   "cell_type": "code",
   "execution_count": 9,
   "metadata": {},
   "outputs": [
    {
     "name": "stdout",
     "output_type": "stream",
     "text": [
      "Truncated movie\n",
      "Loaded data into movie\n"
     ]
    }
   ],
   "source": [
    "insert_csv('/home/ho2271/project1/data_preprocessing/table_movie.csv', 'movie')"
   ]
  },
  {
   "cell_type": "code",
   "execution_count": 10,
   "metadata": {},
   "outputs": [
    {
     "name": "stdout",
     "output_type": "stream",
     "text": [
      "Truncated genre\n",
      "Loaded data into genre\n"
     ]
    }
   ],
   "source": [
    "insert_csv('/home/ho2271/project1/data_preprocessing/table_genre.csv', 'genre')"
   ]
  },
  {
   "cell_type": "code",
   "execution_count": 11,
   "metadata": {},
   "outputs": [
    {
     "name": "stdout",
     "output_type": "stream",
     "text": [
      "Truncated director\n",
      "Loaded data into director\n"
     ]
    }
   ],
   "source": [
    "insert_csv('/home/ho2271/project1/data_preprocessing/table_director.csv', 'director')"
   ]
  },
  {
   "cell_type": "code",
   "execution_count": 12,
   "metadata": {},
   "outputs": [
    {
     "name": "stdout",
     "output_type": "stream",
     "text": [
      "Truncated direct\n",
      "Loaded data into direct\n"
     ]
    }
   ],
   "source": [
    "insert_csv('/home/ho2271/project1/data_preprocessing/table_direct.csv', 'direct')"
   ]
  },
  {
   "cell_type": "code",
   "execution_count": 13,
   "metadata": {},
   "outputs": [
    {
     "name": "stdout",
     "output_type": "stream",
     "text": [
      "Truncated mov_cast\n",
      "Loaded data into mov_cast\n"
     ]
    }
   ],
   "source": [
    "insert_csv('/home/ho2271/project1/data_preprocessing/table_mov_cast.csv', 'mov_cast')"
   ]
  },
  {
   "cell_type": "code",
   "execution_count": 14,
   "metadata": {},
   "outputs": [
    {
     "name": "stdout",
     "output_type": "stream",
     "text": [
      "Truncated act\n",
      "Loaded data into act\n"
     ]
    }
   ],
   "source": [
    "insert_csv('/home/ho2271/project1/data_preprocessing/table_act.csv', 'act')"
   ]
  },
  {
   "cell_type": "code",
   "execution_count": 15,
   "metadata": {},
   "outputs": [
    {
     "name": "stdout",
     "output_type": "stream",
     "text": [
      "Truncated belong_to\n",
      "Loaded data into belong_to\n"
     ]
    }
   ],
   "source": [
    "insert_csv('/home/ho2271/project1/data_preprocessing/table_belong_to.csv', 'belong_to')"
   ]
  },
  {
   "cell_type": "code",
   "execution_count": 16,
   "metadata": {},
   "outputs": [
    {
     "name": "stdout",
     "output_type": "stream",
     "text": [
      "Truncated user_most_like\n",
      "Loaded data into user_most_like\n"
     ]
    }
   ],
   "source": [
    "insert_csv('/home/ho2271/project1/data_preprocessing/table_user_most_like.csv', 'user_most_like')"
   ]
  },
  {
   "cell_type": "code",
   "execution_count": 17,
   "metadata": {},
   "outputs": [
    {
     "name": "stdout",
     "output_type": "stream",
     "text": [
      "Truncated rate\n",
      "Loaded data into rate\n"
     ]
    }
   ],
   "source": [
    "insert_csv('/home/ho2271/project1/data_preprocessing/table_rate.csv', 'rate')"
   ]
  },
  {
   "cell_type": "code",
   "execution_count": 18,
   "metadata": {},
   "outputs": [
    {
     "name": "stdout",
     "output_type": "stream",
     "text": [
      "Truncated website\n",
      "Loaded data into website\n"
     ]
    }
   ],
   "source": [
    "insert_csv('/home/ho2271/project1/data_preprocessing/table_website.csv', 'website')"
   ]
  },
  {
   "cell_type": "code",
   "execution_count": 19,
   "metadata": {},
   "outputs": [
    {
     "name": "stdout",
     "output_type": "stream",
     "text": [
      "Truncated link\n",
      "Loaded data into link\n"
     ]
    }
   ],
   "source": [
    "insert_csv('/home/ho2271/project1/data_preprocessing/table_link.csv', 'link')"
   ]
  },
  {
   "cell_type": "code",
   "execution_count": null,
   "metadata": {},
   "outputs": [],
   "source": []
  }
 ],
 "metadata": {
  "kernelspec": {
   "display_name": "Python 3",
   "language": "python",
   "name": "python3"
  },
  "language_info": {
   "codemirror_mode": {
    "name": "ipython",
    "version": 2
   },
   "file_extension": ".py",
   "mimetype": "text/x-python",
   "name": "python",
   "nbconvert_exporter": "python",
   "pygments_lexer": "ipython2",
   "version": "2.7.14"
  }
 },
 "nbformat": 4,
 "nbformat_minor": 2
}

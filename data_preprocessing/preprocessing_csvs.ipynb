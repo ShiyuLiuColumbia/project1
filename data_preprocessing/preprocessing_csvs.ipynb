{
 "cells": [
  {
   "cell_type": "code",
   "execution_count": 2,
   "metadata": {},
   "outputs": [],
   "source": [
    "import csv\n",
    "import os\n",
    "import json\n",
    "import ast"
   ]
  },
  {
   "cell_type": "code",
   "execution_count": 39,
   "metadata": {},
   "outputs": [
    {
     "name": "stdout",
     "output_type": "stream",
     "text": [
      "45203\n",
      "45173\n",
      "start writing file\n",
      "finish writing file\n"
     ]
    }
   ],
   "source": [
    "# table: movies\n",
    "with open('/home/ho2271/project1/data/movies_metadata.csv') as csv_file:\n",
    "    csv_reader = csv.reader(csv_file, delimiter=',')\n",
    "    w = [] # output list: a list of tuples\n",
    "    for i, row in enumerate(csv_reader):\n",
    "        r = []\n",
    "        if i == 0:\n",
    "            name_index = row.index('title')\n",
    "            id_index = row.index('id')\n",
    "            language_index = row.index('original_language')\n",
    "            runtime_index = row.index('runtime')\n",
    "            release_date_index = row.index('release_date')\n",
    "            targets = [name_index, id_index, language_index, runtime_index, release_date_index]\n",
    "        else:\n",
    "            try:\n",
    "                for j, t in enumerate(targets):\n",
    "                    # turn runtime into int\n",
    "                    if j == 3:\n",
    "                        r.append(int(float(row[t])))\n",
    "                    else:\n",
    "                        r.append(row[t])\n",
    "            except:\n",
    "                pass\n",
    "        if len(r)==5:\n",
    "            w.append(tuple(r))\n",
    "            \n",
    "# check uniqueness\n",
    "print(len(w))\n",
    "keys = set()\n",
    "for row in w:\n",
    "    if row[1] not in keys:\n",
    "        keys.add(row[1])\n",
    "    else:\n",
    "        w.remove(row)\n",
    "print(len(w))\n",
    "# output csv\n",
    "print('start writing file') \n",
    "with open('table_movie.csv','w') as out:\n",
    "    csv_out=csv.writer(out)\n",
    "    csv_out.writerow(['title', 'id', 'original_language', 'runtime', 'release_date'])\n",
    "    for i, row in enumerate(w):\n",
    "        csv_out.writerow(row)\n",
    "print('finish writing file') "
   ]
  },
  {
   "cell_type": "code",
   "execution_count": 40,
   "metadata": {},
   "outputs": [
    {
     "name": "stdout",
     "output_type": "stream",
     "text": [
      "44985\n",
      "44985\n",
      "start writing file\n",
      "finish writing file\n"
     ]
    }
   ],
   "source": [
    "# table: rate\n",
    "# get movie ids\n",
    "with open('./table_movie.csv') as csv_file:\n",
    "    csv_reader = csv.reader(csv_file, delimiter=',')\n",
    "    m = []\n",
    "    for i, row in enumerate(csv_reader):\n",
    "        m.append(row[1])\n",
    "    m = set(m)\n",
    "\n",
    "with open('/home/ho2271/project1/data/ratings_small.csv') as csv_file:\n",
    "    csv_reader = csv.reader(csv_file, delimiter=',')\n",
    "    w = []\n",
    "    for i, row in enumerate(csv_reader):\n",
    "        if row[1] in m:\n",
    "            w.append((row[1], row[0], int(float(row[2])), ''))\n",
    "\n",
    "# check uniqueness            \n",
    "print(len(w))\n",
    "keys = set()\n",
    "for row in w:\n",
    "    if (row[0],row[1]) not in keys:\n",
    "        keys.add((row[0],row[1]))\n",
    "    else:\n",
    "        w.remove(row)\n",
    "print(len(w))\n",
    "# output csv\n",
    "print('start writing file') \n",
    "with open('table_rate.csv','w') as out:\n",
    "    csv_out=csv.writer(out)\n",
    "    csv_out.writerow(['movieId', 'userId', 'rating'])\n",
    "    for i, row in enumerate(w):\n",
    "        csv_out.writerow(row)\n",
    "print('finish writing file') "
   ]
  },
  {
   "cell_type": "code",
   "execution_count": 41,
   "metadata": {},
   "outputs": [
    {
     "name": "stdout",
     "output_type": "stream",
     "text": [
      "91106\n",
      "32\n",
      "{('Thriller', 53), ('Carousel Productions', 11176), ('Mystery', 9648), ('Family', 10751), ('Romance', 10749), ('Pulser Productions', 18012), ('History', 36), ('Mardock Scramble Production Committee', 7761), ('Comedy', 35), ('Foreign', 10769), ('Music', 10402), ('War', 10752), ('Documentary', 99), ('Odyssey Media', 17161), ('Crime', 80), ('GoHands', 7759), ('Telescene Film Group Productions', 29812), ('Adventure', 12), ('Fantasy', 14), ('BROSTA TV', 7760), ('TV Movie', 10770), ('Aniplex', 2883), ('Science Fiction', 878), ('Action', 28), ('The Cartel', 23822), ('Horror', 27), ('Drama', 18), ('Animation', 16), ('Vision View Entertainment', 11602), ('Rogue State', 18013), ('Sentai Filmworks', 33751), ('Western', 37)}\n"
     ]
    }
   ],
   "source": [
    "# table: genre\n",
    "with open('/home/ho2271/project1/data/movies_metadata.csv') as csv_file:\n",
    "    csv_reader = csv.reader(csv_file, delimiter=',')\n",
    "    w = []\n",
    "    for i, row in enumerate(csv_reader):\n",
    "        if i == 0:\n",
    "            genres_index = row.index('genres')\n",
    "            targets = [genres_index]\n",
    "        else:\n",
    "            for i, t in enumerate(targets):\n",
    "                dicts = ast.literal_eval(row[t])\n",
    "                for d in dicts:\n",
    "                    w.append((d['name'], d['id']))\n",
    "print(len(w))\n",
    "w = set(w)\n",
    "print(len(w))\n",
    "print(w)\n",
    "with open('table_genre.csv','w') as out:\n",
    "    csv_out=csv.writer(out)\n",
    "    csv_out.writerow(['name', 'genre_id'])\n",
    "    for i, row in enumerate(w):\n",
    "        csv_out.writerow(row)"
   ]
  },
  {
   "cell_type": "code",
   "execution_count": 47,
   "metadata": {},
   "outputs": [
    {
     "name": "stdout",
     "output_type": "stream",
     "text": [
      "90830\n",
      "90751\n"
     ]
    }
   ],
   "source": [
    "# table: belong_to\n",
    "with open('./table_movie.csv') as csv_file:\n",
    "    csv_reader = csv.reader(csv_file, delimiter=',')\n",
    "    m = []\n",
    "    for i, row in enumerate(csv_reader):\n",
    "        m.append(row[1])\n",
    "    m = set(m)\n",
    "\n",
    "with open('/home/ho2271/project1/data/movies_metadata.csv') as csv_file:\n",
    "    csv_reader = csv.reader(csv_file, delimiter=',')\n",
    "    w = []\n",
    "    for i, row in enumerate(csv_reader):\n",
    "        r = []\n",
    "        if i == 0:\n",
    "            movie_index = row.index('id')\n",
    "            genres_index = row.index('genres')\n",
    "            targets = [movie_index, genres_index]\n",
    "            header_length = len(row)\n",
    "        else:\n",
    "            if len(row) == header_length:\n",
    "                for i, t in enumerate(targets):\n",
    "                    genre_ids = []\n",
    "                    if i ==1:\n",
    "                        dicts = ast.literal_eval(row[t])\n",
    "                        for d in dicts:\n",
    "                            genre_ids.append(d['id'])\n",
    "                    else:\n",
    "                        movie_id = row[t]\n",
    "                for g in genre_ids:\n",
    "                    if movie_id in m:\n",
    "                        r.append((movie_id, g))\n",
    "                for p in r:\n",
    "                    w.append(tuple(p))\n",
    "                    \n",
    "print(len(w))\n",
    "w = set(w)\n",
    "print(len(w))\n",
    "with open('table_belong_to.csv','w') as out:\n",
    "    csv_out=csv.writer(out)\n",
    "    csv_out.writerow(['mov_id', 'genre_id'])\n",
    "    for i, row in enumerate(w):\n",
    "        csv_out.writerow(row)"
   ]
  },
  {
   "cell_type": "code",
   "execution_count": 43,
   "metadata": {},
   "outputs": [
    {
     "name": "stdout",
     "output_type": "stream",
     "text": [
      "49048\n",
      "19895\n"
     ]
    }
   ],
   "source": [
    "# table: director\n",
    "with open('/home/ho2271/project1/data/credits.csv') as csv_file:\n",
    "    csv_reader = csv.reader(csv_file, delimiter=',')\n",
    "    w = []\n",
    "    for i, row in enumerate(csv_reader):\n",
    "        if i == 0:\n",
    "            crew_index = row.index('crew')\n",
    "            targets = [crew_index]\n",
    "        else:\n",
    "            for i, t in enumerate(targets):\n",
    "                dicts = ast.literal_eval(row[t])\n",
    "                for d in dicts:\n",
    "                    if d.get('job') == 'Director':\n",
    "                        w.append((d.get('name'), d.get('id'), d.get('gender')))\n",
    "print(len(w))\n",
    "w = set(w)\n",
    "print(len(w))\n",
    "with open('table_director.csv','w') as out:\n",
    "    csv_out=csv.writer(out)\n",
    "    csv_out.writerow(['name','director_id', 'gender'])\n",
    "    for i, row in enumerate(w):\n",
    "        csv_out.writerow(row)"
   ]
  },
  {
   "cell_type": "code",
   "execution_count": 44,
   "metadata": {},
   "outputs": [
    {
     "name": "stdout",
     "output_type": "stream",
     "text": [
      "562474\n",
      "206182\n",
      "206158\n"
     ]
    }
   ],
   "source": [
    "# table: mov_cast\n",
    "with open('/home/ho2271/project1/data/credits.csv') as csv_file:\n",
    "    csv_reader = csv.reader(csv_file, delimiter=',')\n",
    "    w = []\n",
    "    for i, row in enumerate(csv_reader):\n",
    "        if i == 0:\n",
    "            cast_index = row.index('cast')\n",
    "            targets = [cast_index]\n",
    "        else:\n",
    "            for i, t in enumerate(targets):\n",
    "                dicts = ast.literal_eval(row[t])\n",
    "                for d in dicts:\n",
    "                    w.append((d.get('name'), d.get('id'), d.get('gender')))\n",
    "print(len(w))\n",
    "w = list(set(w))\n",
    "print(len(w))\n",
    "id_set = set()\n",
    "for row in w:\n",
    "    if row[1] not in id_set:\n",
    "        id_set.add(row[1])\n",
    "    else:\n",
    "        w.remove(row)\n",
    "print(len(w))\n",
    "with open('table_mov_cast.csv','w') as out:\n",
    "    csv_out=csv.writer(out)\n",
    "    csv_out.writerow(['name','cast_id', 'gender'])\n",
    "    for i, row in enumerate(w):\n",
    "        csv_out.writerow(row)"
   ]
  },
  {
   "cell_type": "code",
   "execution_count": 45,
   "metadata": {},
   "outputs": [
    {
     "name": "stdout",
     "output_type": "stream",
     "text": [
      "48819\n",
      "48770\n"
     ]
    }
   ],
   "source": [
    "# table: direct\n",
    "with open('./table_movie.csv') as csv_file:\n",
    "    csv_reader = csv.reader(csv_file, delimiter=',')\n",
    "    m = []\n",
    "    for i, row in enumerate(csv_reader):\n",
    "        m.append(row[1])\n",
    "    m = set(m)\n",
    "\n",
    "with open('/home/ho2271/project1/data/credits.csv') as csv_file:\n",
    "    csv_reader = csv.reader(csv_file, delimiter=',')\n",
    "    w = []\n",
    "    for i, row in enumerate(csv_reader):\n",
    "        if i == 0:\n",
    "            crew_index = row.index('crew')\n",
    "            movie_index = row.index('id')\n",
    "            targets = [crew_index]\n",
    "        else:\n",
    "            movie_id = row[movie_index]\n",
    "            for i, t in enumerate(targets):\n",
    "                dicts = ast.literal_eval(row[t])\n",
    "                for d in dicts:\n",
    "                    if d.get('job') == 'Director':\n",
    "                        director_id = d.get('id')\n",
    "                        if movie_id in m:\n",
    "                            w.append((movie_id, director_id))\n",
    "print(len(w))\n",
    "w = set(w)\n",
    "print(len(w))\n",
    "with open('table_direct.csv','w') as out:\n",
    "    csv_out=csv.writer(out)\n",
    "    csv_out.writerow(['mov_id', 'director_id'])\n",
    "    for i, row in enumerate(w):\n",
    "        csv_out.writerow(row)"
   ]
  },
  {
   "cell_type": "code",
   "execution_count": 46,
   "metadata": {},
   "outputs": [
    {
     "name": "stdout",
     "output_type": "stream",
     "text": [
      "559150\n",
      "559150\n"
     ]
    }
   ],
   "source": [
    "# table: act\n",
    "with open('./table_movie.csv') as csv_file:\n",
    "    csv_reader = csv.reader(csv_file, delimiter=',')\n",
    "    m = []\n",
    "    for i, row in enumerate(csv_reader):\n",
    "        m.append(row[1])\n",
    "    m = set(m)\n",
    "    \n",
    "with open('/home/ho2271/project1/data/credits.csv') as csv_file:\n",
    "    csv_reader = csv.reader(csv_file, delimiter=',')\n",
    "    w = []\n",
    "    unique_mov_cast = set()\n",
    "    for i, row in enumerate(csv_reader):\n",
    "        if i == 0:\n",
    "            cast_index = row.index('cast')\n",
    "            movie_index = row.index('id')\n",
    "            targets = [cast_index]\n",
    "        else:\n",
    "            movie_id = row[movie_index]\n",
    "            for i, t in enumerate(targets):\n",
    "                dicts = ast.literal_eval(row[t])\n",
    "                for d in dicts:\n",
    "                    if movie_id in m:\n",
    "                        if (movie_id, d.get('id')) not in unique_mov_cast:\n",
    "                            unique_mov_cast.add((movie_id, d.get('id')))\n",
    "                            w.append((movie_id, d.get('character'), d.get('id')))\n",
    "                        \n",
    "print(len(w))\n",
    "w = set(w)\n",
    "print(len(w))\n",
    "with open('table_act.csv','w') as out:\n",
    "    csv_out=csv.writer(out)\n",
    "    csv_out.writerow(['mov_id', 'role','cast_id'])\n",
    "    for i, row in enumerate(w):\n",
    "        csv_out.writerow(row)"
   ]
  },
  {
   "cell_type": "code",
   "execution_count": 4,
   "metadata": {},
   "outputs": [
    {
     "name": "stdout",
     "output_type": "stream",
     "text": [
      "671\n"
     ]
    }
   ],
   "source": [
    "# user_most_like\n",
    "users = set()\n",
    "with open('/home/ho2271/project1/data/ratings_small.csv') as csv_file:\n",
    "    csv_reader = csv.reader(csv_file, delimiter=',')\n",
    "    for i, row in enumerate(csv_reader):\n",
    "        r = []\n",
    "        if i == 0:\n",
    "            userId = row.index('userId')\n",
    "        else:\n",
    "            users.add(row[userId])\n",
    "print(len(users))"
   ]
  },
  {
   "cell_type": "code",
   "execution_count": null,
   "metadata": {},
   "outputs": [],
   "source": []
  }
 ],
 "metadata": {
  "kernelspec": {
   "display_name": "Python 3",
   "language": "python",
   "name": "python3"
  },
  "language_info": {
   "codemirror_mode": {
    "name": "ipython",
    "version": 3
   },
   "file_extension": ".py",
   "mimetype": "text/x-python",
   "name": "python",
   "nbconvert_exporter": "python",
   "pygments_lexer": "ipython3",
   "version": "3.6.4"
  }
 },
 "nbformat": 4,
 "nbformat_minor": 2
}

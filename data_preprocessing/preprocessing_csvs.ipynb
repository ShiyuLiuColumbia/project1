{
 "cells": [
  {
   "cell_type": "code",
   "execution_count": 1,
   "metadata": {},
   "outputs": [],
   "source": [
    "import csv\n",
    "import os\n",
    "import json\n",
    "import ast\n",
    "import names"
   ]
  },
  {
   "cell_type": "code",
   "execution_count": 2,
   "metadata": {},
   "outputs": [
    {
     "name": "stdout",
     "output_type": "stream",
     "text": [
      "45203\n",
      "45173\n",
      "start writing file\n",
      "finish writing file\n"
     ]
    }
   ],
   "source": [
    "# table: movies\n",
    "with open('/home/ho2271/project1/data/movies_metadata.csv') as csv_file:\n",
    "    csv_reader = csv.reader(csv_file, delimiter=',')\n",
    "    w = [] # output list: a list of tuples\n",
    "    for i, row in enumerate(csv_reader):\n",
    "        r = []\n",
    "        if i == 0:\n",
    "            targets_cols = ['title', 'id', 'original_language', 'runtime', 'release_date', 'revenue']\n",
    "            targets = []\n",
    "            for c in targets_cols:\n",
    "                targets.append(row.index(c))\n",
    "        else:\n",
    "            try:\n",
    "                for j, t in enumerate(targets):\n",
    "                    # turn runtime into int\n",
    "                    if j == 3:\n",
    "                        r.append(int(float(row[t])))\n",
    "                    else:\n",
    "                        r.append(row[t])\n",
    "            except:\n",
    "                pass\n",
    "        if len(r)==len(targets_cols):\n",
    "            w.append(tuple(r))\n",
    "            \n",
    "# check uniqueness\n",
    "print(len(w))\n",
    "keys = set()\n",
    "for row in w:\n",
    "    if row[1] not in keys:\n",
    "        keys.add(row[1])\n",
    "    else:\n",
    "        w.remove(row)\n",
    "print(len(w))\n",
    "# output csv\n",
    "print('start writing file') \n",
    "with open('table_movie.csv','w') as out:\n",
    "    csv_out=csv.writer(out)\n",
    "    csv_out.writerow(targets_cols)\n",
    "    for i, row in enumerate(w):\n",
    "        csv_out.writerow(row)\n",
    "print('finish writing file') "
   ]
  },
  {
   "cell_type": "code",
   "execution_count": 11,
   "metadata": {},
   "outputs": [
    {
     "name": "stdout",
     "output_type": "stream",
     "text": [
      "44985\n",
      "44985\n",
      "start writing file\n",
      "finish writing file\n"
     ]
    }
   ],
   "source": [
    "# table: rate\n",
    "# get movie ids\n",
    "with open('./table_movie.csv') as csv_file:\n",
    "    csv_reader = csv.reader(csv_file, delimiter=',')\n",
    "    m = []\n",
    "    for i, row in enumerate(csv_reader):\n",
    "        m.append(row[1])\n",
    "    m = set(m)\n",
    "\n",
    "with open('/home/ho2271/project1/data/ratings_small.csv') as csv_file:\n",
    "    csv_reader = csv.reader(csv_file, delimiter=',')\n",
    "    w = []\n",
    "    for i, row in enumerate(csv_reader):\n",
    "        if row[1] in m:\n",
    "            w.append((row[1], row[0], int(float(row[2])), ''))\n",
    "\n",
    "# check uniqueness            \n",
    "print(len(w))\n",
    "keys = set()\n",
    "for row in w:\n",
    "    if (row[0],row[1]) not in keys:\n",
    "        keys.add((row[0],row[1]))\n",
    "    else:\n",
    "        w.remove(row)\n",
    "print(len(w))\n",
    "# output csv\n",
    "print('start writing file') \n",
    "with open('table_rate.csv','w') as out:\n",
    "    csv_out=csv.writer(out)\n",
    "    csv_out.writerow(['movieId', 'userId', 'rating'])\n",
    "    for i, row in enumerate(w):\n",
    "        csv_out.writerow(row)\n",
    "print('finish writing file') "
   ]
  },
  {
   "cell_type": "code",
   "execution_count": 13,
   "metadata": {},
   "outputs": [
    {
     "name": "stdout",
     "output_type": "stream",
     "text": [
      "91106\n",
      "32\n",
      "{('Mystery', 9648), ('Fantasy', 14), ('Sentai Filmworks', 33751), ('Animation', 16), ('History', 36), ('GoHands', 7759), ('Rogue State', 18013), ('Documentary', 99), ('Music', 10402), ('The Cartel', 23822), ('Action', 28), ('Thriller', 53), ('Adventure', 12), ('Comedy', 35), ('War', 10752), ('Telescene Film Group Productions', 29812), ('TV Movie', 10770), ('Crime', 80), ('Carousel Productions', 11176), ('Vision View Entertainment', 11602), ('Pulser Productions', 18012), ('Romance', 10749), ('Horror', 27), ('BROSTA TV', 7760), ('Foreign', 10769), ('Mardock Scramble Production Committee', 7761), ('Family', 10751), ('Aniplex', 2883), ('Drama', 18), ('Science Fiction', 878), ('Western', 37), ('Odyssey Media', 17161)}\n"
     ]
    }
   ],
   "source": [
    "# table: genre\n",
    "with open('/home/ho2271/project1/data/movies_metadata.csv') as csv_file:\n",
    "    csv_reader = csv.reader(csv_file, delimiter=',')\n",
    "    w = []\n",
    "    for i, row in enumerate(csv_reader):\n",
    "        if i == 0:\n",
    "            targets = [row.index('genres')]\n",
    "        else:\n",
    "            for i, t in enumerate(targets):\n",
    "                dicts = ast.literal_eval(row[t])\n",
    "                for d in dicts:\n",
    "                    w.append((d['name'], d['id']))\n",
    "print(len(w))\n",
    "w = set(w)\n",
    "print(len(w))\n",
    "print(w)\n",
    "with open('table_genre.csv','w') as out:\n",
    "    csv_out=csv.writer(out)\n",
    "    csv_out.writerow(['name', 'genre_id'])\n",
    "    for i, row in enumerate(w):\n",
    "        csv_out.writerow(row)"
   ]
  },
  {
   "cell_type": "code",
   "execution_count": 14,
   "metadata": {},
   "outputs": [
    {
     "name": "stdout",
     "output_type": "stream",
     "text": [
      "90830\n",
      "90751\n"
     ]
    }
   ],
   "source": [
    "# table: belong_to\n",
    "with open('./table_movie.csv') as csv_file:\n",
    "    csv_reader = csv.reader(csv_file, delimiter=',')\n",
    "    m = []\n",
    "    for i, row in enumerate(csv_reader):\n",
    "        m.append(row[1])\n",
    "    m = set(m)\n",
    "\n",
    "with open('/home/ho2271/project1/data/movies_metadata.csv') as csv_file:\n",
    "    csv_reader = csv.reader(csv_file, delimiter=',')\n",
    "    w = []\n",
    "    for i, row in enumerate(csv_reader):\n",
    "        r = []\n",
    "        if i == 0:\n",
    "            movie_index = row.index('id')\n",
    "            genres_index = row.index('genres')\n",
    "            targets = [movie_index, genres_index]\n",
    "            header_length = len(row)\n",
    "        else:\n",
    "            if len(row) == header_length:\n",
    "                for i, t in enumerate(targets):\n",
    "                    genre_ids = []\n",
    "                    if i ==1:\n",
    "                        dicts = ast.literal_eval(row[t])\n",
    "                        for d in dicts:\n",
    "                            genre_ids.append(d['id'])\n",
    "                    else:\n",
    "                        movie_id = row[t]\n",
    "                for g in genre_ids:\n",
    "                    if movie_id in m:\n",
    "                        r.append((movie_id, g))\n",
    "                for p in r:\n",
    "                    w.append(tuple(p))\n",
    "                    \n",
    "print(len(w))\n",
    "w = set(w)\n",
    "print(len(w))\n",
    "with open('table_belong_to.csv','w') as out:\n",
    "    csv_out=csv.writer(out)\n",
    "    csv_out.writerow(['mov_id', 'genre_id'])\n",
    "    for i, row in enumerate(w):\n",
    "        csv_out.writerow(row)"
   ]
  },
  {
   "cell_type": "code",
   "execution_count": 15,
   "metadata": {},
   "outputs": [
    {
     "name": "stdout",
     "output_type": "stream",
     "text": [
      "49048\n",
      "19895\n"
     ]
    }
   ],
   "source": [
    "# table: director\n",
    "with open('/home/ho2271/project1/data/credits.csv') as csv_file:\n",
    "    csv_reader = csv.reader(csv_file, delimiter=',')\n",
    "    w = []\n",
    "    for i, row in enumerate(csv_reader):\n",
    "        if i == 0:\n",
    "            crew_index = row.index('crew')\n",
    "            targets = [crew_index]\n",
    "        else:\n",
    "            for i, t in enumerate(targets):\n",
    "                dicts = ast.literal_eval(row[t])\n",
    "                for d in dicts:\n",
    "                    if d.get('job') == 'Director':\n",
    "                        w.append((d.get('name'), d.get('id'), d.get('gender')))\n",
    "print(len(w))\n",
    "w = set(w)\n",
    "print(len(w))\n",
    "with open('table_director.csv','w') as out:\n",
    "    csv_out=csv.writer(out)\n",
    "    csv_out.writerow(['name','director_id', 'gender'])\n",
    "    for i, row in enumerate(w):\n",
    "        csv_out.writerow(row)"
   ]
  },
  {
   "cell_type": "code",
   "execution_count": 16,
   "metadata": {},
   "outputs": [
    {
     "name": "stdout",
     "output_type": "stream",
     "text": [
      "562474\n",
      "206182\n",
      "206158\n"
     ]
    }
   ],
   "source": [
    "# table: mov_cast\n",
    "with open('/home/ho2271/project1/data/credits.csv') as csv_file:\n",
    "    csv_reader = csv.reader(csv_file, delimiter=',')\n",
    "    w = []\n",
    "    for i, row in enumerate(csv_reader):\n",
    "        if i == 0:\n",
    "            cast_index = row.index('cast')\n",
    "            targets = [cast_index]\n",
    "        else:\n",
    "            for i, t in enumerate(targets):\n",
    "                dicts = ast.literal_eval(row[t])\n",
    "                for d in dicts:\n",
    "                    w.append((d.get('name'), d.get('id'), d.get('gender')))\n",
    "print(len(w))\n",
    "w = list(set(w))\n",
    "print(len(w))\n",
    "id_set = set()\n",
    "for row in w:\n",
    "    if row[1] not in id_set:\n",
    "        id_set.add(row[1])\n",
    "    else:\n",
    "        w.remove(row)\n",
    "print(len(w))\n",
    "with open('table_mov_cast.csv','w') as out:\n",
    "    csv_out=csv.writer(out)\n",
    "    csv_out.writerow(['name','cast_id', 'gender'])\n",
    "    for i, row in enumerate(w):\n",
    "        csv_out.writerow(row)"
   ]
  },
  {
   "cell_type": "code",
   "execution_count": 17,
   "metadata": {},
   "outputs": [
    {
     "name": "stdout",
     "output_type": "stream",
     "text": [
      "48819\n",
      "48770\n"
     ]
    }
   ],
   "source": [
    "# table: direct\n",
    "with open('./table_movie.csv') as csv_file:\n",
    "    csv_reader = csv.reader(csv_file, delimiter=',')\n",
    "    m = []\n",
    "    for i, row in enumerate(csv_reader):\n",
    "        m.append(row[1])\n",
    "    m = set(m)\n",
    "\n",
    "with open('/home/ho2271/project1/data/credits.csv') as csv_file:\n",
    "    csv_reader = csv.reader(csv_file, delimiter=',')\n",
    "    w = []\n",
    "    for i, row in enumerate(csv_reader):\n",
    "        if i == 0:\n",
    "            crew_index = row.index('crew')\n",
    "            movie_index = row.index('id')\n",
    "            targets = [crew_index]\n",
    "        else:\n",
    "            movie_id = row[movie_index]\n",
    "            for i, t in enumerate(targets):\n",
    "                dicts = ast.literal_eval(row[t])\n",
    "                for d in dicts:\n",
    "                    if d.get('job') == 'Director':\n",
    "                        director_id = d.get('id')\n",
    "                        if movie_id in m:\n",
    "                            w.append((movie_id, director_id))\n",
    "print(len(w))\n",
    "w = set(w)\n",
    "print(len(w))\n",
    "with open('table_direct.csv','w') as out:\n",
    "    csv_out=csv.writer(out)\n",
    "    csv_out.writerow(['mov_id', 'director_id'])\n",
    "    for i, row in enumerate(w):\n",
    "        csv_out.writerow(row)"
   ]
  },
  {
   "cell_type": "code",
   "execution_count": 18,
   "metadata": {},
   "outputs": [
    {
     "name": "stdout",
     "output_type": "stream",
     "text": [
      "559150\n",
      "559150\n"
     ]
    }
   ],
   "source": [
    "# table: act\n",
    "with open('./table_movie.csv') as csv_file:\n",
    "    csv_reader = csv.reader(csv_file, delimiter=',')\n",
    "    m = []\n",
    "    for i, row in enumerate(csv_reader):\n",
    "        m.append(row[1])\n",
    "    m = set(m)\n",
    "    \n",
    "with open('/home/ho2271/project1/data/credits.csv') as csv_file:\n",
    "    csv_reader = csv.reader(csv_file, delimiter=',')\n",
    "    w = []\n",
    "    unique_mov_cast = set()\n",
    "    for i, row in enumerate(csv_reader):\n",
    "        if i == 0:\n",
    "            cast_index = row.index('cast')\n",
    "            movie_index = row.index('id')\n",
    "            targets = [cast_index]\n",
    "        else:\n",
    "            movie_id = row[movie_index]\n",
    "            for i, t in enumerate(targets):\n",
    "                dicts = ast.literal_eval(row[t])\n",
    "                for d in dicts:\n",
    "                    if movie_id in m:\n",
    "                        if (movie_id, d.get('id')) not in unique_mov_cast:\n",
    "                            unique_mov_cast.add((movie_id, d.get('id')))\n",
    "                            w.append((movie_id, d.get('character'), d.get('id')))\n",
    "                        \n",
    "print(len(w))\n",
    "w = set(w)\n",
    "print(len(w))\n",
    "with open('table_act.csv','w') as out:\n",
    "    csv_out=csv.writer(out)\n",
    "    csv_out.writerow(['mov_id', 'role','cast_id'])\n",
    "    for i, row in enumerate(w):\n",
    "        csv_out.writerow(row)"
   ]
  },
  {
   "cell_type": "code",
   "execution_count": 3,
   "metadata": {},
   "outputs": [
    {
     "name": "stdout",
     "output_type": "stream",
     "text": [
      "671\n",
      "671\n",
      "start writing file\n",
      "finish writing file\n"
     ]
    }
   ],
   "source": [
    "import random\n",
    "from datetime import datetime\n",
    "# user_most_like\n",
    "user_info = dict()\n",
    "with open('/home/ho2271/project1/data/ratings_small.csv') as csv_file:\n",
    "    csv_reader = csv.reader(csv_file, delimiter=',')\n",
    "    for i, row in enumerate(csv_reader):\n",
    "        r = []\n",
    "        if i == 0:\n",
    "            userId = row.index('userId')\n",
    "            movieId = row.index('movieId')\n",
    "            rating = row.index('rating')\n",
    "        else:\n",
    "            user_info[row[userId]] = user_info.get(row[userId], [])\n",
    "            user_info[row[userId]].append((row[movieId], row[rating]))\n",
    "            \n",
    "# need movie-genre info\n",
    "movie_genre_info = dict()\n",
    "with open('./table_belong_to.csv') as csv_file:\n",
    "    csv_reader = csv.reader(csv_file, delimiter=',')\n",
    "    for i, row in enumerate(csv_reader):\n",
    "        if i == 0:\n",
    "            pass\n",
    "        else:\n",
    "            movie_genre_info[row[0]] = row[1]\n",
    "\n",
    "w = []\n",
    "# schema: name, user_id, genre_id, gender, birthday,\n",
    "for k, v in user_info.items():\n",
    "    # randomly generate male user\n",
    "    if int(k) % 2 ==0: \n",
    "        n = names.get_full_name(gender='female')\n",
    "    else:\n",
    "        n = names.get_full_name(gender='male')\n",
    "    u_id = int(k)\n",
    "    u_name = k\n",
    "    passwd = 'password'\n",
    "    try:\n",
    "        g_id = movie_genre_info[max(user_info['1'], key= lambda x: x[1])]\n",
    "    except:\n",
    "        g_id = random.choice(list(movie_genre_info.values()))\n",
    "    g = int(int(k) % 2) \n",
    "    year = random.randint(1950, 2000)\n",
    "    month = random.randint(1, 12)\n",
    "    day = random.randint(1, 28)\n",
    "    b = datetime(year, month, day)\n",
    "    w.append((n, u_id, u_name, passwd, g_id, g, b))\n",
    "\n",
    "print(len(w))\n",
    "w = set(w)\n",
    "print(len(w))\n",
    "print('start writing file') \n",
    "with open('table_user_most_like.csv','w') as out:\n",
    "    csv_out=csv.writer(out)\n",
    "    csv_out.writerow(['name', 'user_id', 'username', 'password', 'genre_id', 'gender', 'birthday'])\n",
    "    for i, row in enumerate(w):\n",
    "        csv_out.writerow(row)\n",
    "print('finish writing file') "
   ]
  },
  {
   "cell_type": "code",
   "execution_count": 59,
   "metadata": {},
   "outputs": [
    {
     "name": "stdout",
     "output_type": "stream",
     "text": [
      "45188\n",
      "45158\n",
      "start writing file\n",
      "finish writing file\n"
     ]
    }
   ],
   "source": [
    "# table: direct\n",
    "with open('./table_movie.csv') as csv_file:\n",
    "    csv_reader = csv.reader(csv_file, delimiter=',')\n",
    "    m = []\n",
    "    for i, row in enumerate(csv_reader):\n",
    "        m.append(row[1])\n",
    "    m = set(m)\n",
    "    \n",
    "# link \n",
    "with open('/home/ho2271/project1/data/movies_metadata.csv') as csv_file:\n",
    "    csv_reader = csv.reader(csv_file, delimiter=',')\n",
    "    w = [] # output list: a list of tuples\n",
    "    for i, row in enumerate(csv_reader):\n",
    "        r = []\n",
    "        if i == 0:\n",
    "            targets_cols = ['id', 'imdb_id']\n",
    "            targets = []\n",
    "            for c in targets_cols:\n",
    "                targets.append(row.index(c))\n",
    "        else:\n",
    "            for j, t in enumerate(targets):\n",
    "                if row[targets[0]] in m:\n",
    "                    if j == 0:\n",
    "                        r.append(row[t])\n",
    "                    if j ==1 and row[t] != '' and row[t].startswith('tt'):\n",
    "                        r.append(row[t])\n",
    "        if len(r)==len(targets_cols):\n",
    "            w.append(tuple(r))\n",
    "            \n",
    "# check uniqueness\n",
    "print(len(w))\n",
    "w = set(w)\n",
    "print(len(w))\n",
    "# output csv\n",
    "print('start writing file') \n",
    "with open('table_link.csv','w') as out:\n",
    "    csv_out=csv.writer(out)\n",
    "    csv_out.writerow(['mov_id', 'web_id'])\n",
    "    for i, row in enumerate(w):\n",
    "        csv_out.writerow(row)\n",
    "print('finish writing file') "
   ]
  },
  {
   "cell_type": "code",
   "execution_count": 54,
   "metadata": {},
   "outputs": [
    {
     "name": "stdout",
     "output_type": "stream",
     "text": [
      "45466\n",
      "45418\n",
      "start writing file\n",
      "finish writing file\n"
     ]
    }
   ],
   "source": [
    "# website\n",
    "with open('/home/ho2271/project1/data/movies_metadata.csv') as csv_file:\n",
    "    csv_reader = csv.reader(csv_file, delimiter=',')\n",
    "    w = [] # output list: a list of tuples\n",
    "    for i, row in enumerate(csv_reader):\n",
    "        r = []\n",
    "        if i == 0:\n",
    "            targets_cols = ['imdb_id']\n",
    "            targets = []\n",
    "            for c in targets_cols:\n",
    "                targets.append(row.index(c))\n",
    "        else:\n",
    "            for j, t in enumerate(targets):\n",
    "                if row[t] != '':\n",
    "                    r.append(row[t])\n",
    "            w.append(tuple(r))\n",
    "            \n",
    "# check uniqueness\n",
    "print(len(w))\n",
    "w = set(w)\n",
    "print(len(w))\n",
    "# output csv\n",
    "print('start writing file') \n",
    "with open('table_website.csv','w') as out:\n",
    "    csv_out=csv.writer(out)\n",
    "    csv_out.writerow(['web_id'])\n",
    "    for i, row in enumerate(w):\n",
    "        csv_out.writerow(row)\n",
    "print('finish writing file') "
   ]
  },
  {
   "cell_type": "code",
   "execution_count": null,
   "metadata": {},
   "outputs": [],
   "source": []
  }
 ],
 "metadata": {
  "kernelspec": {
   "display_name": "Python 3",
   "language": "python",
   "name": "python3"
  },
  "language_info": {
   "codemirror_mode": {
    "name": "ipython",
    "version": 3
   },
   "file_extension": ".py",
   "mimetype": "text/x-python",
   "name": "python",
   "nbconvert_exporter": "python",
   "pygments_lexer": "ipython3",
   "version": "3.6.4"
  }
 },
 "nbformat": 4,
 "nbformat_minor": 2
}

{
 "cells": [
  {
   "cell_type": "code",
   "execution_count": 2,
   "metadata": {},
   "outputs": [],
   "source": [
    "import csv\n",
    "import os\n",
    "import json\n",
    "import ast"
   ]
  },
  {
   "cell_type": "code",
   "execution_count": 97,
   "metadata": {},
   "outputs": [
    {
     "name": "stdout",
     "output_type": "stream",
     "text": [
      "45203\n",
      "45173\n",
      "start writing file\n"
     ]
    }
   ],
   "source": [
    "# table: movies\n",
    "with open('./data/movies_metadata.csv') as csv_file:\n",
    "    #row_count = sum(1 for row in csv_file)\n",
    "    #print(row_count)\n",
    "    csv_reader = csv.reader(csv_file, delimiter=',')\n",
    "    w = []\n",
    "    for i, row in enumerate(csv_reader):\n",
    "        r = []\n",
    "        if i == 0:\n",
    "            name_index = row.index('title')\n",
    "            id_index = row.index('id')\n",
    "            language_index = row.index('original_language')\n",
    "            runtime_index = row.index('runtime')\n",
    "            release_date_index = row.index('release_date')\n",
    "            targets = [name_index, id_index, language_index, runtime_index, release_date_index]\n",
    "            #r.extend(['title', 'id', 'original_language', 'runtime', 'release_date'])\n",
    "        else:\n",
    "            try:\n",
    "                for j, t in enumerate(targets):\n",
    "                    if j == 3:\n",
    "                        r.append(int(float(row[t])))\n",
    "                    else:\n",
    "                        r.append(row[t])\n",
    "            except:\n",
    "                pass\n",
    "        if len(r)==5:\n",
    "            w.append(tuple(r))\n",
    "            \n",
    "print(len(w))\n",
    "w = set(w)\n",
    "print(len(w))\n",
    "print('start writing file') \n",
    "with open('table_movie.csv','w') as out:\n",
    "    csv_out=csv.writer(out)\n",
    "    csv_out.writerow(['title', 'id', 'original_language', 'runtime', 'release_date'])\n",
    "    for i, row in enumerate(w):\n",
    "        csv_out.writerow(row)"
   ]
  },
  {
   "cell_type": "code",
   "execution_count": 106,
   "metadata": {},
   "outputs": [
    {
     "name": "stdout",
     "output_type": "stream",
     "text": [
      "[('1371', '1', 2, ''), ('1405', '1', 1, ''), ('2105', '1', 4, '')]\n",
      "44985\n",
      "44985\n",
      "start writing file\n"
     ]
    }
   ],
   "source": [
    "# table: rate\n",
    "with open('./table_movie.csv') as csv_file:\n",
    "    csv_reader = csv.reader(csv_file, delimiter=',')\n",
    "    m = []\n",
    "    for i, row in enumerate(csv_reader):\n",
    "        m.append(row[1])\n",
    "    m = set(m)\n",
    "\n",
    "with open('./data/ratings_small.csv') as csv_file:\n",
    "    csv_reader = csv.reader(csv_file, delimiter=',')\n",
    "    w = []\n",
    "    for i, row in enumerate(csv_reader):\n",
    "        if row[1] in m:\n",
    "            w.append((row[1], row[0], int(float(row[2])), ''))\n",
    "print(w[:3])\n",
    "print(len(w))\n",
    "w = set(w)\n",
    "print(len(w))\n",
    "print('start writing file') \n",
    "with open('table_ratings.csv','w') as out:\n",
    "    csv_out=csv.writer(out)\n",
    "    csv_out.writerow(['movieId', 'userId', 'rating'])\n",
    "    for i, row in enumerate(w):\n",
    "        csv_out.writerow(row)"
   ]
  },
  {
   "cell_type": "code",
   "execution_count": 76,
   "metadata": {},
   "outputs": [
    {
     "name": "stdout",
     "output_type": "stream",
     "text": [
      "32\n",
      "{('Comedy', 35), ('Thriller', 53), ('Aniplex', 2883), ('GoHands', 7759), ('Telescene Film Group Productions', 29812), ('Mardock Scramble Production Committee', 7761), ('Pulser Productions', 18012), ('War', 10752), ('Fantasy', 14), ('Carousel Productions', 11176), ('Music', 10402), ('Action', 28), ('Mystery', 9648), ('Adventure', 12), ('History', 36), ('Vision View Entertainment', 11602), ('Documentary', 99), ('The Cartel', 23822), ('Odyssey Media', 17161), ('BROSTA TV', 7760), ('Drama', 18), ('Animation', 16), ('Rogue State', 18013), ('Sentai Filmworks', 33751), ('Foreign', 10769), ('TV Movie', 10770), ('Family', 10751), ('Romance', 10749), ('Western', 37), ('Crime', 80), ('Science Fiction', 878), ('Horror', 27)}\n"
     ]
    }
   ],
   "source": [
    "# table: genre\n",
    "with open('./data/movies_metadata.csv') as csv_file:\n",
    "    csv_reader = csv.reader(csv_file, delimiter=',')\n",
    "    w = []\n",
    "    for i, row in enumerate(csv_reader):\n",
    "        if i == 0:\n",
    "            genres_index = row.index('genres')\n",
    "            targets = [genres_index]\n",
    "        else:\n",
    "            for i, t in enumerate(targets):\n",
    "                dicts = ast.literal_eval(row[t])\n",
    "                for d in dicts:\n",
    "                    w.append((d['name'], d['id']))\n",
    "w = set(w)\n",
    "print(len(w))\n",
    "print(w)\n",
    "with open('table_genre.csv','w') as out:\n",
    "    csv_out=csv.writer(out)\n",
    "    csv_out.writerow(['name', 'genre_id'])\n",
    "    for i, row in enumerate(w):\n",
    "        csv_out.writerow(row)"
   ]
  },
  {
   "cell_type": "code",
   "execution_count": 72,
   "metadata": {},
   "outputs": [
    {
     "name": "stdout",
     "output_type": "stream",
     "text": [
      "[('862', 16), ('862', 35), ('862', 10751), ('8844', 12), ('8844', 14)]\n",
      "91006\n"
     ]
    }
   ],
   "source": [
    "# table: belong_to\n",
    "with open('./data/movies_metadata.csv') as csv_file:\n",
    "    csv_reader = csv.reader(csv_file, delimiter=',')\n",
    "    w = []\n",
    "    \n",
    "    for i, row in enumerate(csv_reader):\n",
    "        r = []\n",
    "        if i == 0:\n",
    "            movie_index = row.index('id')\n",
    "            genres_index = row.index('genres')\n",
    "            targets = [movie_index, genres_index]\n",
    "            header_length = len(row)\n",
    "        else:\n",
    "            if len(row) == header_length:\n",
    "                for i, t in enumerate(targets):\n",
    "                    genre_ids = []\n",
    "                    if i ==1:\n",
    "                        dicts = ast.literal_eval(row[t])\n",
    "                        for d in dicts:\n",
    "                            genre_ids.append(d['id'])\n",
    "                    else:\n",
    "                        movie_id = row[t]\n",
    "                for g in genre_ids:\n",
    "                    r.append((movie_id, g))\n",
    "                for p in r:\n",
    "                    w.append(tuple(p))\n",
    "print(w[:5])\n",
    "w = set(w)\n",
    "print(len(w))\n",
    "with open('table_belong_to.csv','w') as out:\n",
    "    csv_out=csv.writer(out)\n",
    "    csv_out.writerow(['mov_id', 'genre_id'])\n",
    "    for i, row in enumerate(w):\n",
    "        csv_out.writerow(row)"
   ]
  },
  {
   "cell_type": "code",
   "execution_count": 75,
   "metadata": {},
   "outputs": [
    {
     "name": "stdout",
     "output_type": "stream",
     "text": [
      "19895\n"
     ]
    }
   ],
   "source": [
    "# table: director\n",
    "with open('./data/credits.csv') as csv_file:\n",
    "    csv_reader = csv.reader(csv_file, delimiter=',')\n",
    "    w = []\n",
    "    for i, row in enumerate(csv_reader):\n",
    "        if i == 0:\n",
    "            crew_index = row.index('crew')\n",
    "            targets = [crew_index]\n",
    "        else:\n",
    "            for i, t in enumerate(targets):\n",
    "                dicts = ast.literal_eval(row[t])\n",
    "                for d in dicts:\n",
    "                    if d.get('job') == 'Director':\n",
    "                        w.append((d.get('name'), d.get('id'), d.get('gender')))\n",
    "w = set(w)\n",
    "print(len(w))\n",
    "with open('table_director.csv','w') as out:\n",
    "    csv_out=csv.writer(out)\n",
    "    csv_out.writerow(['name','director_id', 'gender'])\n",
    "    for i, row in enumerate(w):\n",
    "        csv_out.writerow(row)"
   ]
  },
  {
   "cell_type": "code",
   "execution_count": 92,
   "metadata": {},
   "outputs": [
    {
     "name": "stdout",
     "output_type": "stream",
     "text": [
      "206182\n",
      "206158\n"
     ]
    }
   ],
   "source": [
    "# table: mov_cast\n",
    "with open('./data/credits.csv') as csv_file:\n",
    "    csv_reader = csv.reader(csv_file, delimiter=',')\n",
    "    w = []\n",
    "    for i, row in enumerate(csv_reader):\n",
    "        if i == 0:\n",
    "            cast_index = row.index('cast')\n",
    "            targets = [cast_index]\n",
    "        else:\n",
    "            for i, t in enumerate(targets):\n",
    "                dicts = ast.literal_eval(row[t])\n",
    "                for d in dicts:\n",
    "                    w.append((d.get('name'), d.get('id'), d.get('gender')))\n",
    "w = list(set(w))\n",
    "print(len(w))\n",
    "id_set = set()\n",
    "for row in w:\n",
    "    if row[1] not in id_set:\n",
    "        id_set.add(row[1])\n",
    "    else:\n",
    "        w.remove(row)\n",
    "print(len(w))\n",
    "with open('table_mov_cast.csv','w') as out:\n",
    "    csv_out=csv.writer(out)\n",
    "    csv_out.writerow(['name','cast_id', 'gender'])\n",
    "    for i, row in enumerate(w):\n",
    "        csv_out.writerow(row)"
   ]
  },
  {
   "cell_type": "code",
   "execution_count": 94,
   "metadata": {},
   "outputs": [
    {
     "name": "stdout",
     "output_type": "stream",
     "text": [
      "['Moss', '49087', 'ko', '163', '2010-07-14']\n",
      "['The Flying Man', '212270', 'en', '9', '2013-07-08']\n"
     ]
    }
   ],
   "source": [
    "with open('./table_movie.csv') as csv_file:\n",
    "    csv_reader = csv.reader(csv_file, delimiter=',')\n",
    "    movies_id = []\n",
    "    for i, row in enumerate(csv_reader):\n",
    "        movies_id.append(row[1])"
   ]
  },
  {
   "cell_type": "code",
   "execution_count": 98,
   "metadata": {},
   "outputs": [
    {
     "name": "stdout",
     "output_type": "stream",
     "text": [
      "48770\n"
     ]
    }
   ],
   "source": [
    "# table: direct\n",
    "with open('./table_movie.csv') as csv_file:\n",
    "    csv_reader = csv.reader(csv_file, delimiter=',')\n",
    "    m = []\n",
    "    for i, row in enumerate(csv_reader):\n",
    "        m.append(row[1])\n",
    "    m = set(m)\n",
    "\n",
    "with open('./data/credits.csv') as csv_file:\n",
    "    csv_reader = csv.reader(csv_file, delimiter=',')\n",
    "    w = []\n",
    "    for i, row in enumerate(csv_reader):\n",
    "        if i == 0:\n",
    "            crew_index = row.index('crew')\n",
    "            movie_index = row.index('id')\n",
    "            targets = [crew_index]\n",
    "        else:\n",
    "            movie_id = row[movie_index]\n",
    "            for i, t in enumerate(targets):\n",
    "                dicts = ast.literal_eval(row[t])\n",
    "                for d in dicts:\n",
    "                    if d.get('job') == 'Director':\n",
    "                        director_id = d.get('id')\n",
    "                        if movie_id in m:\n",
    "                            w.append((movie_id, director_id))\n",
    "w = set(w)\n",
    "print(len(w))\n",
    "with open('table_direct.csv','w') as out:\n",
    "    csv_out=csv.writer(out)\n",
    "    csv_out.writerow(['mov_id', 'director_id'])\n",
    "    for i, row in enumerate(w):\n",
    "        csv_out.writerow(row)"
   ]
  },
  {
   "cell_type": "code",
   "execution_count": 100,
   "metadata": {},
   "outputs": [
    {
     "name": "stdout",
     "output_type": "stream",
     "text": [
      "559150\n"
     ]
    }
   ],
   "source": [
    "# table: act\n",
    "with open('./table_movie.csv') as csv_file:\n",
    "    csv_reader = csv.reader(csv_file, delimiter=',')\n",
    "    m = []\n",
    "    for i, row in enumerate(csv_reader):\n",
    "        m.append(row[1])\n",
    "    m = set(m)\n",
    "    \n",
    "with open('./data/credits.csv') as csv_file:\n",
    "    csv_reader = csv.reader(csv_file, delimiter=',')\n",
    "    w = []\n",
    "    unique_mov_cast = set()\n",
    "    for i, row in enumerate(csv_reader):\n",
    "        if i == 0:\n",
    "            cast_index = row.index('cast')\n",
    "            movie_index = row.index('id')\n",
    "            targets = [cast_index]\n",
    "        else:\n",
    "            movie_id = row[movie_index]\n",
    "            for i, t in enumerate(targets):\n",
    "                dicts = ast.literal_eval(row[t])\n",
    "                for d in dicts:\n",
    "                    if movie_id in m:\n",
    "                        if (movie_id, d.get('id')) not in unique_mov_cast:\n",
    "                            unique_mov_cast.add((movie_id, d.get('id')))\n",
    "                            w.append((movie_id, d.get('character'), d.get('id')))\n",
    "                        \n",
    "w = set(w)\n",
    "print(len(w))\n",
    "with open('table_act.csv','w') as out:\n",
    "    csv_out=csv.writer(out)\n",
    "    csv_out.writerow(['mov_id', 'role','cast_id'])\n",
    "    for i, row in enumerate(w):\n",
    "        csv_out.writerow(row)"
   ]
  },
  {
   "cell_type": "code",
   "execution_count": null,
   "metadata": {},
   "outputs": [],
   "source": []
  }
 ],
 "metadata": {
  "kernelspec": {
   "display_name": "Python 3",
   "language": "python",
   "name": "python3"
  },
  "language_info": {
   "codemirror_mode": {
    "name": "ipython",
    "version": 3
   },
   "file_extension": ".py",
   "mimetype": "text/x-python",
   "name": "python",
   "nbconvert_exporter": "python",
   "pygments_lexer": "ipython3",
   "version": "3.6.4"
  }
 },
 "nbformat": 4,
 "nbformat_minor": 2
}
